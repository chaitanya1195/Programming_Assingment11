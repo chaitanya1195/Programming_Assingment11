{
 "cells": [
  {
   "cell_type": "code",
   "execution_count": 5,
   "id": "6ee0f32f",
   "metadata": {},
   "outputs": [
    {
     "name": "stdout",
     "output_type": "stream",
     "text": [
      "['Everyone', 'little', 'sometimes.', 'Whether', \"you're\", 'starting', 'career', 'motivation,', 'inspiring', 'remind', 'success', 'possible.']\n"
     ]
    }
   ],
   "source": [
    "#1. Write a Python program to find words which are greater than given length k?\n",
    "\n",
    "def find_long_words(sentence, min_length):\n",
    "    words = sentence.split()\n",
    "    long_words = []\n",
    "    for word in words:\n",
    "        if len(word) > min_length:\n",
    "            long_words.append(word)         \n",
    "    return long_words\n",
    "\n",
    "sentence = \"Everyone needs a little push sometimes. Whether you're starting out on a new career path or need a burst of motivation, these inspiring words will remind you that success is possible.\"\n",
    "min_length = 5\n",
    "long_words = find_long_words(sentence, min_length)\n",
    "print(long_words)"
   ]
  },
  {
   "cell_type": "code",
   "execution_count": 7,
   "id": "a3b04a6c",
   "metadata": {},
   "outputs": [
    {
     "name": "stdout",
     "output_type": "stream",
     "text": [
      "Hello, orld!\n"
     ]
    }
   ],
   "source": [
    "#2. Write a Python program for removing i-th character from a string?\n",
    "\n",
    "def remove_ith_char(s, i):\n",
    "    \"\"\"\n",
    "    Removes the i-th character from a given string.\n",
    "\n",
    "    Args:\n",
    "    - s (str): The input string to remove the i-th character from.\n",
    "    - i (int): The index of the character to remove from the string.\n",
    "\n",
    "    Returns:\n",
    "    - s (str): The modified string with the i-th character removed.\n",
    "    \"\"\"\n",
    "    s = s[:i] + s[i+1:]\n",
    "    return s\n",
    "\n",
    "s = \"Hello, World!\"\n",
    "i = 7\n",
    "new_s = remove_ith_char(s, i)\n",
    "print(new_s)  # Output: \"Hello, orld!\"\n",
    "\n"
   ]
  },
  {
   "cell_type": "code",
   "execution_count": 11,
   "id": "71ec8193",
   "metadata": {},
   "outputs": [
    {
     "name": "stdout",
     "output_type": "stream",
     "text": [
      "Hello>world\n"
     ]
    }
   ],
   "source": [
    "#3.Write a Python program to split and join a string?\n",
    "\n",
    "def split_and_join(string, separator):\n",
    "    words = string.split(separator)\n",
    "    new_string = '>'.join(words)\n",
    "    return new_string\n",
    "\n",
    "string = 'Hello world'\n",
    "separator = \" \"\n",
    "new_string = split_and_join(string, separator)\n",
    "print(new_string)"
   ]
  },
  {
   "cell_type": "code",
   "execution_count": 17,
   "id": "359548a5",
   "metadata": {},
   "outputs": [
    {
     "name": "stdout",
     "output_type": "stream",
     "text": [
      "True\n",
      "False\n"
     ]
    }
   ],
   "source": [
    "# 4.Write a Python to check if a given string is binary string or not?\n",
    "\n",
    "def is_binary_string(string):\n",
    "    \"\"\"\n",
    "    Checks if the given string is a binary string or not.\n",
    "\n",
    "    Args:\n",
    "    - string (str): The input string to check.\n",
    "\n",
    "    Returns:\n",
    "    - is_binary (bool): True if the string is a binary string, False otherwise.\n",
    "    \"\"\"\n",
    "    for char in string:\n",
    "        if char != '0' and char != '1':\n",
    "            return False\n",
    "    return True\n",
    "string = \"1010101\"\n",
    "is_binary = is_binary_string(string)\n",
    "print(is_binary) \n",
    "\n",
    "string = \"10102\"\n",
    "is_binary = is_binary_string(string)\n",
    "print(is_binary)\n"
   ]
  },
  {
   "cell_type": "code",
   "execution_count": 22,
   "id": "b342f34c",
   "metadata": {},
   "outputs": [
    {
     "name": "stdout",
     "output_type": "stream",
     "text": [
      "['quick', 'brown', 'fox', 'lazy', 'dog']\n"
     ]
    }
   ],
   "source": [
    "# 5.Write a Python program to find uncommon words from two Strings?\n",
    "def find_uncommon_words(string1, string2):\n",
    "    \"\"\"\n",
    "    Finds the uncommon words between two strings.\n",
    "\n",
    "    Args:\n",
    "    - string1 (str): The first input string.\n",
    "    - string2 (str): The second input string.\n",
    "\n",
    "    Returns:\n",
    "    - uncommon_words (list): A list of uncommon words between the two strings.\n",
    "    \"\"\"\n",
    "    words1 = string1.split()\n",
    "    words2 = string2.split()\n",
    "    uncommon_words = []\n",
    "    \n",
    "    for word in words1:\n",
    "        if word not in words2:\n",
    "            uncommon_words.append(word)\n",
    "            \n",
    "    for word in words2:\n",
    "        if word not in words1:\n",
    "            uncommon_words.append(word)\n",
    "            \n",
    "    return uncommon_words\n",
    "\n",
    "string1 = \"the quick brown fox\"\n",
    "string2 = \"the lazy dog\"\n",
    "uncommon_words = find_uncommon_words(string1, string2)\n",
    "print(uncommon_words)  "
   ]
  },
  {
   "cell_type": "code",
   "execution_count": 23,
   "id": "ae6d6adc",
   "metadata": {},
   "outputs": [
    {
     "name": "stdout",
     "output_type": "stream",
     "text": [
      "['l', 'o']\n"
     ]
    }
   ],
   "source": [
    "# 6.Write a Python to find all duplicate characters in string?\n",
    "\n",
    "def find_duplicate_characters(string):\n",
    "    \"\"\"\n",
    "    Finds all duplicate characters in the given string.\n",
    "\n",
    "    Args:\n",
    "    - string (str): The input string to check.\n",
    "\n",
    "    Returns:\n",
    "    - duplicates (list): A list of all duplicate characters in the string.\n",
    "    \"\"\"\n",
    "    duplicates = []\n",
    "    for char in string:\n",
    "        if string.count(char) > 1 and char not in duplicates:\n",
    "            duplicates.append(char)\n",
    "    return duplicates\n",
    "\n",
    "string = \"hello world\"\n",
    "duplicates = find_duplicate_characters(string)\n",
    "print(duplicates)\n"
   ]
  },
  {
   "cell_type": "code",
   "execution_count": 26,
   "id": "8599b6e8",
   "metadata": {},
   "outputs": [
    {
     "name": "stdout",
     "output_type": "stream",
     "text": [
      "True\n"
     ]
    }
   ],
   "source": [
    "# 7.Write a Python Program to check if a string contains any special character?\n",
    "import re\n",
    "\n",
    "def has_special_character(string):\n",
    "    special_regex = re.compile('[@_!#$%^&*()<>?/\\|}{~:]')\n",
    "    has_special = special_regex.search(string) is not None\n",
    "    return has_special\n",
    "\n",
    "string = \"Hello, World!\"\n",
    "has_special = has_special_character(string)\n",
    "print(has_special) \n"
   ]
  },
  {
   "cell_type": "code",
   "execution_count": null,
   "id": "8b7d0090",
   "metadata": {},
   "outputs": [],
   "source": []
  }
 ],
 "metadata": {
  "kernelspec": {
   "display_name": "Python 3 (ipykernel)",
   "language": "python",
   "name": "python3"
  },
  "language_info": {
   "codemirror_mode": {
    "name": "ipython",
    "version": 3
   },
   "file_extension": ".py",
   "mimetype": "text/x-python",
   "name": "python",
   "nbconvert_exporter": "python",
   "pygments_lexer": "ipython3",
   "version": "3.9.13"
  }
 },
 "nbformat": 4,
 "nbformat_minor": 5
}
